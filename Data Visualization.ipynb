{
 "cells": [
  {
   "cell_type": "code",
   "execution_count": 14,
   "metadata": {},
   "outputs": [],
   "source": [
    "import pandas as pd\n",
    "import numpy as np\n",
    "import matplotlib.pyplot as plt"
   ]
  },
  {
   "cell_type": "code",
   "execution_count": 15,
   "metadata": {},
   "outputs": [],
   "source": [
    "# import original data\n",
    "books = pd.read_csv('all_books.csv', index_col=0)"
   ]
  },
  {
   "cell_type": "code",
   "execution_count": 16,
   "metadata": {},
   "outputs": [
    {
     "data": {
      "text/html": [
       "<div>\n",
       "<style scoped>\n",
       "    .dataframe tbody tr th:only-of-type {\n",
       "        vertical-align: middle;\n",
       "    }\n",
       "\n",
       "    .dataframe tbody tr th {\n",
       "        vertical-align: top;\n",
       "    }\n",
       "\n",
       "    .dataframe thead th {\n",
       "        text-align: right;\n",
       "    }\n",
       "</style>\n",
       "<table border=\"1\" class=\"dataframe\">\n",
       "  <thead>\n",
       "    <tr style=\"text-align: right;\">\n",
       "      <th></th>\n",
       "      <th>author</th>\n",
       "      <th>title</th>\n",
       "      <th>text</th>\n",
       "    </tr>\n",
       "  </thead>\n",
       "  <tbody>\n",
       "    <tr>\n",
       "      <th>0</th>\n",
       "      <td>austen</td>\n",
       "      <td>Emma-JA</td>\n",
       "      <td>['volume', 'chapter', 'emma', 'woodhouse', 'ha...</td>\n",
       "    </tr>\n",
       "    <tr>\n",
       "      <th>1</th>\n",
       "      <td>austen</td>\n",
       "      <td>LS-JA</td>\n",
       "      <td>['lady', 'susan', 'vernon', 'mr', 'vernon', 'l...</td>\n",
       "    </tr>\n",
       "    <tr>\n",
       "      <th>2</th>\n",
       "      <td>austen</td>\n",
       "      <td>Mansfield-JA</td>\n",
       "      <td>['chapter', 'thirty', 'year', 'ago', 'miss', '...</td>\n",
       "    </tr>\n",
       "    <tr>\n",
       "      <th>3</th>\n",
       "      <td>austen</td>\n",
       "      <td>Northranger_Abbey-JA</td>\n",
       "      <td>['advertisement', 'authoress', 'northanger', '...</td>\n",
       "    </tr>\n",
       "    <tr>\n",
       "      <th>4</th>\n",
       "      <td>austen</td>\n",
       "      <td>PP_JA</td>\n",
       "      <td>['chapter', '1', 'truth', 'universally', 'ackn...</td>\n",
       "    </tr>\n",
       "  </tbody>\n",
       "</table>\n",
       "</div>"
      ],
      "text/plain": [
       "   author                 title  \\\n",
       "0  austen               Emma-JA   \n",
       "1  austen                 LS-JA   \n",
       "2  austen          Mansfield-JA   \n",
       "3  austen  Northranger_Abbey-JA   \n",
       "4  austen                 PP_JA   \n",
       "\n",
       "                                                text  \n",
       "0  ['volume', 'chapter', 'emma', 'woodhouse', 'ha...  \n",
       "1  ['lady', 'susan', 'vernon', 'mr', 'vernon', 'l...  \n",
       "2  ['chapter', 'thirty', 'year', 'ago', 'miss', '...  \n",
       "3  ['advertisement', 'authoress', 'northanger', '...  \n",
       "4  ['chapter', '1', 'truth', 'universally', 'ackn...  "
      ]
     },
     "execution_count": 16,
     "metadata": {},
     "output_type": "execute_result"
    }
   ],
   "source": [
    "books.head()"
   ]
  },
  {
   "cell_type": "code",
   "execution_count": 17,
   "metadata": {},
   "outputs": [],
   "source": [
    "# import additional data\n",
    "books2 = pd.read_csv('all_books_more.csv', index_col=0)"
   ]
  },
  {
   "cell_type": "code",
   "execution_count": 18,
   "metadata": {},
   "outputs": [
    {
     "data": {
      "text/html": [
       "<div>\n",
       "<style scoped>\n",
       "    .dataframe tbody tr th:only-of-type {\n",
       "        vertical-align: middle;\n",
       "    }\n",
       "\n",
       "    .dataframe tbody tr th {\n",
       "        vertical-align: top;\n",
       "    }\n",
       "\n",
       "    .dataframe thead th {\n",
       "        text-align: right;\n",
       "    }\n",
       "</style>\n",
       "<table border=\"1\" class=\"dataframe\">\n",
       "  <thead>\n",
       "    <tr style=\"text-align: right;\">\n",
       "      <th></th>\n",
       "      <th>author</th>\n",
       "      <th>title</th>\n",
       "      <th>text</th>\n",
       "    </tr>\n",
       "  </thead>\n",
       "  <tbody>\n",
       "    <tr>\n",
       "      <th>0</th>\n",
       "      <td>austen</td>\n",
       "      <td>Emma-JA</td>\n",
       "      <td>['volume', 'chapter', 'emma', 'woodhouse', 'ha...</td>\n",
       "    </tr>\n",
       "    <tr>\n",
       "      <th>1</th>\n",
       "      <td>austen</td>\n",
       "      <td>LS-JA</td>\n",
       "      <td>['lady', 'susan', 'vernon', 'mr', 'vernon', 'l...</td>\n",
       "    </tr>\n",
       "    <tr>\n",
       "      <th>2</th>\n",
       "      <td>austen</td>\n",
       "      <td>Mansfield-JA</td>\n",
       "      <td>['chapter', 'thirty', 'year', 'ago', 'miss', '...</td>\n",
       "    </tr>\n",
       "    <tr>\n",
       "      <th>3</th>\n",
       "      <td>austen</td>\n",
       "      <td>Northranger_Abbey-JA</td>\n",
       "      <td>['advertisement', 'authoress', 'northanger', '...</td>\n",
       "    </tr>\n",
       "    <tr>\n",
       "      <th>4</th>\n",
       "      <td>austen</td>\n",
       "      <td>PP_JA</td>\n",
       "      <td>['chapter', '1', 'truth', 'universally', 'ackn...</td>\n",
       "    </tr>\n",
       "  </tbody>\n",
       "</table>\n",
       "</div>"
      ],
      "text/plain": [
       "   author                 title  \\\n",
       "0  austen               Emma-JA   \n",
       "1  austen                 LS-JA   \n",
       "2  austen          Mansfield-JA   \n",
       "3  austen  Northranger_Abbey-JA   \n",
       "4  austen                 PP_JA   \n",
       "\n",
       "                                                text  \n",
       "0  ['volume', 'chapter', 'emma', 'woodhouse', 'ha...  \n",
       "1  ['lady', 'susan', 'vernon', 'mr', 'vernon', 'l...  \n",
       "2  ['chapter', 'thirty', 'year', 'ago', 'miss', '...  \n",
       "3  ['advertisement', 'authoress', 'northanger', '...  \n",
       "4  ['chapter', '1', 'truth', 'universally', 'ackn...  "
      ]
     },
     "execution_count": 18,
     "metadata": {},
     "output_type": "execute_result"
    }
   ],
   "source": [
    "books2.head()"
   ]
  },
  {
   "cell_type": "code",
   "execution_count": 19,
   "metadata": {},
   "outputs": [
    {
     "data": {
      "text/plain": [
       "(193, 3)"
      ]
     },
     "execution_count": 19,
     "metadata": {},
     "output_type": "execute_result"
    }
   ],
   "source": [
    "books.shape"
   ]
  },
  {
   "cell_type": "code",
   "execution_count": 20,
   "metadata": {},
   "outputs": [
    {
     "data": {
      "text/plain": [
       "(239, 3)"
      ]
     },
     "execution_count": 20,
     "metadata": {},
     "output_type": "execute_result"
    }
   ],
   "source": [
    "books2.shape"
   ]
  },
  {
   "cell_type": "code",
   "execution_count": 21,
   "metadata": {},
   "outputs": [
    {
     "data": {
      "image/png": "[encoded data removed]",
      "text/plain": [
       "<Figure size 432x288 with 1 Axes>"
      ]
     },
     "metadata": {
      "needs_background": "light"
     },
     "output_type": "display_data"
    }
   ],
   "source": [
    "# plot the count of books per author for the original data\n",
    "s = books.author\n",
    "s.value_counts().plot(kind=\"bar\")\n",
    "plt.title('Authors in Original Dataset')\n",
    "plt.ylabel('Count of Books')\n",
    "plt.show()"
   ]
  },
  {
   "cell_type": "code",
   "execution_count": 22,
   "metadata": {},
   "outputs": [
    {
     "data": {
      "image/png": "[encoded data removed]",
      "text/plain": [
       "<Figure size 432x288 with 1 Axes>"
      ]
     },
     "metadata": {
      "needs_background": "light"
     },
     "output_type": "display_data"
    }
   ],
   "source": [
    "# plot the count of books per author for the additional data\n",
    "s = books2.author\n",
    "s.value_counts().plot(kind=\"bar\")\n",
    "plt.title('Authors in Additional Dataset')\n",
    "plt.ylabel('Count of Books')\n",
    "plt.show()"
   ]
  },
  {
   "cell_type": "code",
   "execution_count": null,
   "metadata": {},
   "outputs": [],
   "source": []
  }
 ],
 "metadata": {
  "kernelspec": {
   "display_name": "Python 3",
   "language": "python",
   "name": "python3"
  },
  "language_info": {
   "codemirror_mode": {
    "name": "ipython",
    "version": 3
   },
   "file_extension": ".py",
   "mimetype": "text/x-python",
   "name": "python",
   "nbconvert_exporter": "python",
   "pygments_lexer": "ipython3",
   "version": "3.7.1"
  }
 },
 "nbformat": 4,
 "nbformat_minor": 2
}
